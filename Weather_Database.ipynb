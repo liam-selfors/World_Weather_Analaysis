{
 "cells": [
  {
   "cell_type": "code",
   "execution_count": 12,
   "id": "3177ac4b",
   "metadata": {},
   "outputs": [],
   "source": [
    "# Create a new set of 2,000 random latitudes and longitudes.\n",
    "import numpy as np\n",
    "\n",
    "lats = np.random.uniform(low=-90.000, high=90.000, size=2000)\n",
    "lngs = np.random.uniform(low=-180.000, high=180.000, size=2000)\n",
    "coordinates = list(zip(lats, lngs))"
   ]
  },
  {
   "cell_type": "code",
   "execution_count": 13,
   "id": "5169a5a3",
   "metadata": {},
   "outputs": [],
   "source": [
    "# Get the nearest city using the citipy module.\n",
    "from citipy import citipy\n",
    "cities = [citipy.nearest_city(\n",
    "    coordinate[0],\n",
    "    coordinate[1]\n",
    ").city_name for coordinate in coordinates]"
   ]
  },
  {
   "cell_type": "code",
   "execution_count": 1,
   "id": "ff97a350",
   "metadata": {},
   "outputs": [],
   "source": [
    "# Perform an API call with the OpenWeatherMap.\n",
    "import requests\n",
    "from config import weather_api_key"
   ]
  },
  {
   "cell_type": "code",
   "execution_count": null,
   "id": "1120d512",
   "metadata": {},
   "outputs": [],
   "source": [
    "# Starting URL for Weather Map API Call.\n",
    "url = \"http://api.openweathermap.org/data/2.5/weather?units=Imperial&APPID=\" + weather_api_key\n",
    "print(url)"
   ]
  }
 ],
 "metadata": {
  "kernelspec": {
   "display_name": "PythonData",
   "language": "python",
   "name": "pythondata"
  },
  "language_info": {
   "codemirror_mode": {
    "name": "ipython",
    "version": 3
   },
   "file_extension": ".py",
   "mimetype": "text/x-python",
   "name": "python",
   "nbconvert_exporter": "python",
   "pygments_lexer": "ipython3",
   "version": "3.7.13"
  }
 },
 "nbformat": 4,
 "nbformat_minor": 5
}
