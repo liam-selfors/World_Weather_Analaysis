{
 "cells": [
  {
   "cell_type": "code",
   "execution_count": 1,
   "id": "c9d1eb18",
   "metadata": {},
   "outputs": [],
   "source": [
    "# Create a new set of 2,000 random latitudes and longitudes.\n",
    "import numpy as np\n",
    "\n",
    "lats = np.random.uniform(low=-90.000, high=90.000, size=2000)\n",
    "lngs = np.random.uniform(low=-180.000, high=180.000, size=2000)\n",
    "coordinates = list(zip(lats, lngs))"
   ]
  },
  {
   "cell_type": "code",
   "execution_count": 2,
   "id": "ac738626",
   "metadata": {},
   "outputs": [],
   "source": [
    "# Get the nearest city using the citipy module.\n",
    "from citipy import citipy\n",
    "cities = [citipy.nearest_city(\n",
    "    coordinate[0],\n",
    "    coordinate[1]\n",
    ").city_name for coordinate in coordinates]"
   ]
  },
  {
   "cell_type": "code",
   "execution_count": 3,
   "id": "b18641f3",
   "metadata": {
    "scrolled": false
   },
   "outputs": [],
   "source": [
    "# Perform an API call with the OpenWeatherMap.\n",
    "import requests\n",
    "from config import weather_api_key\n",
    "import pprint\n",
    "\n",
    "base_url = \"http://api.openweathermap.org/data/2.5/weather?units=Imperial&APPID=\" + weather_api_key\n",
    "city_urls = [f\"{base_url}&q={city.replace(' ','+')}\" for city in cities]\n",
    "city_weather_responses = [requests.get(city_url).json() for city_url in city_urls]"
   ]
  },
  {
   "cell_type": "code",
   "execution_count": 14,
   "id": "7ea9ca67",
   "metadata": {},
   "outputs": [],
   "source": [
    "# Retrieve the information from the API call:\n",
    "information = {\n",
    "    \"City\": [cwr['name'] for cwr in city_weather_responses if cwr['cod'] == 200],\n",
    "    \"Country\": [cwr['sys']['country'] for cwr in city_weather_responses if cwr['cod'] == 200],\n",
    "    \"Lat\": [cwr[\"coord\"][\"lat\"] for cwr in city_weather_responses if cwr['cod'] == 200],\n",
    "    \"Lng\": [cwr[\"coord\"][\"lon\"] for cwr in city_weather_responses if cwr['cod'] == 200],\n",
    "    \"Max Temp\": [cwr[\"main\"][\"temp_max\"] for cwr in city_weather_responses if cwr['cod'] == 200],\n",
    "    \"Humidity\": [cwr[\"main\"][\"humidity\"] for cwr in city_weather_responses if cwr['cod'] == 200],\n",
    "    \"Cloudiness\": [cwr[\"clouds\"][\"all\"] for cwr in city_weather_responses if cwr['cod'] == 200],\n",
    "    \"Wind Speed\": [cwr[\"wind\"][\"speed\"] for cwr in city_weather_responses if cwr['cod'] == 200],\n",
    "    \"Current Description\": [cwr['weather'][0]['description'] for cwr in city_weather_responses if cwr['cod'] == 200]\n",
    "}"
   ]
  },
  {
   "cell_type": "code",
   "execution_count": 15,
   "id": "b2b18308",
   "metadata": {},
   "outputs": [
    {
     "data": {
      "text/html": [
       "<div>\n",
       "<style scoped>\n",
       "    .dataframe tbody tr th:only-of-type {\n",
       "        vertical-align: middle;\n",
       "    }\n",
       "\n",
       "    .dataframe tbody tr th {\n",
       "        vertical-align: top;\n",
       "    }\n",
       "\n",
       "    .dataframe thead th {\n",
       "        text-align: right;\n",
       "    }\n",
       "</style>\n",
       "<table border=\"1\" class=\"dataframe\">\n",
       "  <thead>\n",
       "    <tr style=\"text-align: right;\">\n",
       "      <th></th>\n",
       "      <th>City</th>\n",
       "      <th>Country</th>\n",
       "      <th>Lat</th>\n",
       "      <th>Lng</th>\n",
       "      <th>Max Temp</th>\n",
       "      <th>Humidity</th>\n",
       "      <th>Cloudiness</th>\n",
       "      <th>Wind Speed</th>\n",
       "      <th>Current Description</th>\n",
       "    </tr>\n",
       "  </thead>\n",
       "  <tbody>\n",
       "    <tr>\n",
       "      <th>0</th>\n",
       "      <td>Busselton</td>\n",
       "      <td>AU</td>\n",
       "      <td>-33.6500</td>\n",
       "      <td>115.3333</td>\n",
       "      <td>49.69</td>\n",
       "      <td>87</td>\n",
       "      <td>2</td>\n",
       "      <td>12.06</td>\n",
       "      <td>clear sky</td>\n",
       "    </tr>\n",
       "    <tr>\n",
       "      <th>1</th>\n",
       "      <td>Rikitea</td>\n",
       "      <td>PF</td>\n",
       "      <td>-23.1203</td>\n",
       "      <td>-134.9692</td>\n",
       "      <td>73.20</td>\n",
       "      <td>70</td>\n",
       "      <td>70</td>\n",
       "      <td>20.15</td>\n",
       "      <td>broken clouds</td>\n",
       "    </tr>\n",
       "    <tr>\n",
       "      <th>2</th>\n",
       "      <td>Busselton</td>\n",
       "      <td>AU</td>\n",
       "      <td>-33.6500</td>\n",
       "      <td>115.3333</td>\n",
       "      <td>49.69</td>\n",
       "      <td>87</td>\n",
       "      <td>2</td>\n",
       "      <td>12.06</td>\n",
       "      <td>clear sky</td>\n",
       "    </tr>\n",
       "    <tr>\n",
       "      <th>3</th>\n",
       "      <td>Port Keats</td>\n",
       "      <td>AU</td>\n",
       "      <td>-14.2500</td>\n",
       "      <td>129.5500</td>\n",
       "      <td>74.79</td>\n",
       "      <td>44</td>\n",
       "      <td>0</td>\n",
       "      <td>10.92</td>\n",
       "      <td>clear sky</td>\n",
       "    </tr>\n",
       "    <tr>\n",
       "      <th>4</th>\n",
       "      <td>Bambous Virieux</td>\n",
       "      <td>MU</td>\n",
       "      <td>-20.3428</td>\n",
       "      <td>57.7575</td>\n",
       "      <td>68.22</td>\n",
       "      <td>78</td>\n",
       "      <td>94</td>\n",
       "      <td>16.71</td>\n",
       "      <td>light rain</td>\n",
       "    </tr>\n",
       "  </tbody>\n",
       "</table>\n",
       "</div>"
      ],
      "text/plain": [
       "              City Country      Lat       Lng  Max Temp  Humidity  Cloudiness  \\\n",
       "0        Busselton      AU -33.6500  115.3333     49.69        87           2   \n",
       "1          Rikitea      PF -23.1203 -134.9692     73.20        70          70   \n",
       "2        Busselton      AU -33.6500  115.3333     49.69        87           2   \n",
       "3       Port Keats      AU -14.2500  129.5500     74.79        44           0   \n",
       "4  Bambous Virieux      MU -20.3428   57.7575     68.22        78          94   \n",
       "\n",
       "   Wind Speed Current Description  \n",
       "0       12.06           clear sky  \n",
       "1       20.15       broken clouds  \n",
       "2       12.06           clear sky  \n",
       "3       10.92           clear sky  \n",
       "4       16.71          light rain  "
      ]
     },
     "execution_count": 15,
     "metadata": {},
     "output_type": "execute_result"
    }
   ],
   "source": [
    "# Add the data to a new DataFrame.\n",
    "import pandas as pd\n",
    "df = pd.DataFrame(information)\n",
    "df.head()"
   ]
  },
  {
   "cell_type": "code",
   "execution_count": 16,
   "id": "967dd235",
   "metadata": {},
   "outputs": [],
   "source": [
    "# Export the DataFrame as a CSV file\n",
    "import os\n",
    "df.to_csv(os.path.join(\"Weather_Database\", \"WeatherPy_Database.csv\"))"
   ]
  }
 ],
 "metadata": {
  "kernelspec": {
   "display_name": "PythonData",
   "language": "python",
   "name": "pythondata"
  },
  "language_info": {
   "codemirror_mode": {
    "name": "ipython",
    "version": 3
   },
   "file_extension": ".py",
   "mimetype": "text/x-python",
   "name": "python",
   "nbconvert_exporter": "python",
   "pygments_lexer": "ipython3",
   "version": "3.7.13"
  }
 },
 "nbformat": 4,
 "nbformat_minor": 5
}
